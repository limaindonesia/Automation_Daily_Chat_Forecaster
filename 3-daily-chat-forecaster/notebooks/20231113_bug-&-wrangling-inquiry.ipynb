{
 "cells": [
  {
   "cell_type": "code",
   "execution_count": 532,
   "id": "ea117ff3",
   "metadata": {},
   "outputs": [],
   "source": [
    "import pandas as pd"
   ]
  },
  {
   "cell_type": "code",
   "execution_count": 539,
   "id": "4d06079b",
   "metadata": {},
   "outputs": [],
   "source": [
    "data = '20231109_D&I_Platform Bugs'"
   ]
  },
  {
   "cell_type": "code",
   "execution_count": 540,
   "id": "2492a9cf",
   "metadata": {},
   "outputs": [],
   "source": [
    "df = pd.read_csv(data+'.csv')\n",
    "df = df.drop(['remarks', 'is_major', 'is_solved'], axis=1)\n",
    "\n",
    "df['created_at'] = pd.to_datetime(df['created_at'])\n",
    "df['solved_at'] = pd.to_datetime(df['solved_at'])\n",
    "df['date'] = df['created_at'].dt.date\n",
    "df = df[['date', 'bug_class', 'solved_at']]"
   ]
  },
  {
   "cell_type": "code",
   "execution_count": 548,
   "id": "3efb0fe0",
   "metadata": {},
   "outputs": [],
   "source": [
    "# fill data\n",
    "start_date = '2023-04-18'\n",
    "end_date = '2023-11-09'\n",
    "# Create a complete date range using the range method\n",
    "complete_date_range = pd.DataFrame(index=pd.date_range(start=start_date, end=end_date, freq='D'))"
   ]
  },
  {
   "cell_type": "markdown",
   "id": "6db5a57c",
   "metadata": {},
   "source": [
    "### Bug"
   ]
  },
  {
   "cell_type": "code",
   "execution_count": 549,
   "id": "a870053d",
   "metadata": {},
   "outputs": [],
   "source": [
    "df['bug_count'] = 1\n",
    "bug_counts = df.groupby(['date', 'bug_class']).count()['bug_count'].reset_index()\n",
    "bug_pivot = bug_counts.pivot_table(index='date', columns='bug_class', values='bug_count', fill_value=0)\n",
    "# Merge the existing DataFrame with the complete DataFrame, filling missing values with zeros\n",
    "result_df_bug = complete_date_range.merge(bug_pivot, how='left', left_index=True, right_index=True).fillna(0)"
   ]
  },
  {
   "cell_type": "markdown",
   "id": "aefc8753",
   "metadata": {},
   "source": [
    "### Solved"
   ]
  },
  {
   "cell_type": "code",
   "execution_count": 550,
   "id": "dc0a691b",
   "metadata": {},
   "outputs": [],
   "source": [
    "#solved\n",
    "solved_counts = df.groupby(['solved_at', 'bug_class']).size().unstack(fill_value=0).reset_index()\n",
    "solved_counts['date'] = solved_counts['solved_at'].dt.date \n",
    "solved_counts = solved_counts.set_index('date')\n",
    "solved_counts = solved_counts[['Major', 'Minor']]\n",
    "\n",
    "# Merge the existing DataFrame with the complete DataFrame, filling missing values with zeros\n",
    "result_df_solved = complete_date_range.merge(solved_counts, how='left', left_index=True, right_index=True).fillna(0)"
   ]
  },
  {
   "cell_type": "markdown",
   "id": "c3b769e7",
   "metadata": {},
   "source": [
    "### Processed"
   ]
  },
  {
   "cell_type": "code",
   "execution_count": 551,
   "id": "3499924d",
   "metadata": {},
   "outputs": [],
   "source": [
    "# Get cu\n",
    "final = result_df_bug - result_df_solved\n",
    "final['cumulative_major'] = final['Major'].cumsum()\n",
    "final['cumulative_minor'] = final['Minor'].cumsum()"
   ]
  },
  {
   "cell_type": "code",
   "execution_count": 552,
   "id": "5fdee23e",
   "metadata": {},
   "outputs": [
    {
     "data": {
      "text/plain": [
       "<Axes: >"
      ]
     },
     "execution_count": 552,
     "metadata": {},
     "output_type": "execute_result"
    },
    {
     "data": {
      "image/png": "[encoded data removed]",
      "text/plain": [
       "<Figure size 640x480 with 1 Axes>"
      ]
     },
     "metadata": {},
     "output_type": "display_data"
    }
   ],
   "source": [
    "final['cumulative_major'].plot()"
   ]
  },
  {
   "cell_type": "code",
   "execution_count": 553,
   "id": "832d8a7a",
   "metadata": {},
   "outputs": [],
   "source": [
    "df_final = final[['cumulative_major', 'cumulative_minor']]"
   ]
  },
  {
   "cell_type": "code",
   "execution_count": 555,
   "id": "51044abe",
   "metadata": {},
   "outputs": [],
   "source": [
    "df_final.to_csv('bug.csv')"
   ]
  },
  {
   "cell_type": "markdown",
   "id": "80f14481",
   "metadata": {},
   "source": [
    "# Inquiry"
   ]
  },
  {
   "cell_type": "code",
   "execution_count": 561,
   "id": "9cb2c47d",
   "metadata": {},
   "outputs": [],
   "source": [
    "# fill data\n",
    "start_date = '2023-03-01'\n",
    "end_date = '2023-11-09'\n",
    "# Create a complete date range using the range method\n",
    "complete_date_range = pd.DataFrame(index=pd.date_range(start=start_date, end=end_date, freq='D'))"
   ]
  },
  {
   "cell_type": "code",
   "execution_count": 562,
   "id": "75f75293",
   "metadata": {},
   "outputs": [],
   "source": [
    "df_inq = pd.read_csv('20231106_D&I_CR Inquiry.csv')\n",
    "df_inq = df_inq[['status', 'created_at', 'resolved_at', 'tag']]\n",
    "df_inq['tag'] = df_inq['tag'].astype(str)"
   ]
  },
  {
   "cell_type": "code",
   "execution_count": 563,
   "id": "1b71b418",
   "metadata": {},
   "outputs": [
    {
     "data": {
      "text/plain": [
       "resolved      1296\n",
       "unassigned     169\n",
       "assigned       120\n",
       "Name: status, dtype: int64"
      ]
     },
     "execution_count": 563,
     "metadata": {},
     "output_type": "execute_result"
    }
   ],
   "source": [
    "df_inq['status'].value_counts()"
   ]
  },
  {
   "cell_type": "code",
   "execution_count": 564,
   "id": "225b2c11",
   "metadata": {},
   "outputs": [],
   "source": [
    "df_inq_filtered = df_inq[~df_inq['tag'].str.contains('spam')]"
   ]
  },
  {
   "cell_type": "code",
   "execution_count": 565,
   "id": "4924b831",
   "metadata": {},
   "outputs": [
    {
     "name": "stderr",
     "output_type": "stream",
     "text": [
      "/var/folders/fh/5kqpbzgx5cgdq_m9npj98tfh0000gn/T/ipykernel_48710/725214265.py:1: SettingWithCopyWarning: \n",
      "A value is trying to be set on a copy of a slice from a DataFrame.\n",
      "Try using .loc[row_indexer,col_indexer] = value instead\n",
      "\n",
      "See the caveats in the documentation: https://pandas.pydata.org/pandas-docs/stable/user_guide/indexing.html#returning-a-view-versus-a-copy\n",
      "  df_inq_filtered['created_at'] = pd.to_datetime(df_inq_filtered['created_at']).dt.date\n",
      "/var/folders/fh/5kqpbzgx5cgdq_m9npj98tfh0000gn/T/ipykernel_48710/725214265.py:2: SettingWithCopyWarning: \n",
      "A value is trying to be set on a copy of a slice from a DataFrame.\n",
      "Try using .loc[row_indexer,col_indexer] = value instead\n",
      "\n",
      "See the caveats in the documentation: https://pandas.pydata.org/pandas-docs/stable/user_guide/indexing.html#returning-a-view-versus-a-copy\n",
      "  df_inq_filtered['resolved_at'] = pd.to_datetime(df_inq_filtered['resolved_at']).dt.date\n"
     ]
    }
   ],
   "source": [
    "df_inq_filtered['created_at'] = pd.to_datetime(df_inq_filtered['created_at']).dt.date\n",
    "df_inq_filtered['resolved_at'] = pd.to_datetime(df_inq_filtered['resolved_at']).dt.date"
   ]
  },
  {
   "cell_type": "code",
   "execution_count": 566,
   "id": "3b7e0bfe",
   "metadata": {},
   "outputs": [],
   "source": [
    "inq = df_inq_filtered['created_at'].value_counts().reset_index()\n",
    "inq.rename(columns={'index':'date', 'created_at':'count'}, inplace=True)\n",
    "inq.sort_values('date', inplace=True)\n",
    "inq.set_index('date', inplace=True)"
   ]
  },
  {
   "cell_type": "code",
   "execution_count": 567,
   "id": "2050b094",
   "metadata": {},
   "outputs": [],
   "source": [
    "df_inq_res = complete_date_range.merge(inq, how='left', left_index=True, right_index=True).fillna(0)"
   ]
  },
  {
   "cell_type": "code",
   "execution_count": null,
   "id": "e710017b",
   "metadata": {},
   "outputs": [],
   "source": []
  },
  {
   "cell_type": "code",
   "execution_count": 568,
   "id": "35c3c9fa",
   "metadata": {},
   "outputs": [],
   "source": [
    "df_inq_reso = df_inq_filtered.groupby(['resolved_at', 'status']).size().unstack(fill_value=0).reset_index()\n",
    "df_inq_reso = df_inq_reso.rename(columns={'resolved_at':'date', 'resolved':'count'})\n",
    "df_inq_reso['date'] = pd.to_datetime(df_inq_reso['date'])\n",
    "df_inq_reso.set_index('date', inplace=True)"
   ]
  },
  {
   "cell_type": "code",
   "execution_count": 569,
   "id": "3123ea3a",
   "metadata": {},
   "outputs": [
    {
     "data": {
      "text/html": [
       "<div>\n",
       "<style scoped>\n",
       "    .dataframe tbody tr th:only-of-type {\n",
       "        vertical-align: middle;\n",
       "    }\n",
       "\n",
       "    .dataframe tbody tr th {\n",
       "        vertical-align: top;\n",
       "    }\n",
       "\n",
       "    .dataframe thead th {\n",
       "        text-align: right;\n",
       "    }\n",
       "</style>\n",
       "<table border=\"1\" class=\"dataframe\">\n",
       "  <thead>\n",
       "    <tr style=\"text-align: right;\">\n",
       "      <th></th>\n",
       "      <th>count</th>\n",
       "    </tr>\n",
       "  </thead>\n",
       "  <tbody>\n",
       "    <tr>\n",
       "      <th>2023-03-01</th>\n",
       "      <td>0.0</td>\n",
       "    </tr>\n",
       "    <tr>\n",
       "      <th>2023-03-02</th>\n",
       "      <td>1.0</td>\n",
       "    </tr>\n",
       "    <tr>\n",
       "      <th>2023-03-03</th>\n",
       "      <td>0.0</td>\n",
       "    </tr>\n",
       "    <tr>\n",
       "      <th>2023-03-04</th>\n",
       "      <td>1.0</td>\n",
       "    </tr>\n",
       "    <tr>\n",
       "      <th>2023-03-05</th>\n",
       "      <td>0.0</td>\n",
       "    </tr>\n",
       "    <tr>\n",
       "      <th>...</th>\n",
       "      <td>...</td>\n",
       "    </tr>\n",
       "    <tr>\n",
       "      <th>2023-11-05</th>\n",
       "      <td>0.0</td>\n",
       "    </tr>\n",
       "    <tr>\n",
       "      <th>2023-11-06</th>\n",
       "      <td>6.0</td>\n",
       "    </tr>\n",
       "    <tr>\n",
       "      <th>2023-11-07</th>\n",
       "      <td>5.0</td>\n",
       "    </tr>\n",
       "    <tr>\n",
       "      <th>2023-11-08</th>\n",
       "      <td>1.0</td>\n",
       "    </tr>\n",
       "    <tr>\n",
       "      <th>2023-11-09</th>\n",
       "      <td>0.0</td>\n",
       "    </tr>\n",
       "  </tbody>\n",
       "</table>\n",
       "<p>254 rows × 1 columns</p>\n",
       "</div>"
      ],
      "text/plain": [
       "            count\n",
       "2023-03-01    0.0\n",
       "2023-03-02    1.0\n",
       "2023-03-03    0.0\n",
       "2023-03-04    1.0\n",
       "2023-03-05    0.0\n",
       "...           ...\n",
       "2023-11-05    0.0\n",
       "2023-11-06    6.0\n",
       "2023-11-07    5.0\n",
       "2023-11-08    1.0\n",
       "2023-11-09    0.0\n",
       "\n",
       "[254 rows x 1 columns]"
      ]
     },
     "execution_count": 569,
     "metadata": {},
     "output_type": "execute_result"
    }
   ],
   "source": [
    "df_reso_merged = complete_date_range.merge(df_inq_reso, how='left', left_index=True, right_index=True).fillna(0)\n",
    "df_reso_merged"
   ]
  },
  {
   "cell_type": "code",
   "execution_count": 570,
   "id": "78af7713",
   "metadata": {},
   "outputs": [],
   "source": [
    "result = df_inq_res - df_reso_merged\n",
    "result['cum'] = result['count'].cumsum()"
   ]
  },
  {
   "cell_type": "code",
   "execution_count": 571,
   "id": "88b68b16",
   "metadata": {},
   "outputs": [
    {
     "data": {
      "text/plain": [
       "<Axes: >"
      ]
     },
     "execution_count": 571,
     "metadata": {},
     "output_type": "execute_result"
    },
    {
     "data": {
      "image/png": "[encoded data removed]",
      "text/plain": [
       "<Figure size 640x480 with 1 Axes>"
      ]
     },
     "metadata": {},
     "output_type": "display_data"
    }
   ],
   "source": [
    "result.plot()"
   ]
  },
  {
   "cell_type": "code",
   "execution_count": 572,
   "id": "c1505481",
   "metadata": {},
   "outputs": [],
   "source": [
    "result[['cum']].to_csv('inq.csv')"
   ]
  },
  {
   "cell_type": "code",
   "execution_count": null,
   "id": "9e597a91",
   "metadata": {},
   "outputs": [],
   "source": []
  }
 ],
 "metadata": {
  "kernelspec": {
   "display_name": "Python 3 (ipykernel)",
   "language": "python",
   "name": "python3"
  },
  "language_info": {
   "codemirror_mode": {
    "name": "ipython",
    "version": 3
   },
   "file_extension": ".py",
   "mimetype": "text/x-python",
   "name": "python",
   "nbconvert_exporter": "python",
   "pygments_lexer": "ipython3",
   "version": "3.10.11"
  }
 },
 "nbformat": 4,
 "nbformat_minor": 5
}
